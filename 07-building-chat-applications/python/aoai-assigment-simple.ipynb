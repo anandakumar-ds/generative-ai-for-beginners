{
 "cells": [
  {
   "cell_type": "code",
   "execution_count": 1,
   "metadata": {},
   "outputs": [],
   "source": [
    "import os\n",
    "import openai\n",
    "from dotenv import load_dotenv\n",
    "\n",
    "load_dotenv(\"../../.env\")\n",
    "\n",
    "openai.api_type = \"azure\"\n",
    "openai.api_version = \"2023-05-15\"\n",
    "openai.azure_endpoint = \"https://ai4beg-luru.openai.azure.com/\"\n",
    "\n",
    "API_KEY = os.getenv(\"AZURE_OPENAI_API_KEY\", \"\").strip()\n",
    "assert API_KEY, \"ERROR: Azure OpenAI Key is missing\"\n",
    "openai.api_key = API_KEY\n",
    "deployment = \"text-generation-gpt35\"  # replace with your deployment name"
   ]
  },
  {
   "cell_type": "code",
   "execution_count": 3,
   "metadata": {},
   "outputs": [
    {
     "data": {
      "text/plain": [
       "'There are several possible causes for foot pain. It could be due to:\\n\\n1. Sprains or strains: If you recently twisted or turned your foot awkwardly, it could have resulted in a sprain or strain of the ligaments or muscles in your foot.\\n\\n2. Plantar fasciitis: This is a common condition that causes pain in the heel or arch of the foot. It occurs when the plantar fascia, a band of tissue that supports the arch, becomes inflamed.\\n\\n3. Fracture: If you experienced a direct injury to your foot or if you have been involved in high-impact activities, there is a possibility of a fracture in one of the bones in your foot.\\n\\n4. Arthritis: Conditions like osteoarthritis or rheumatoid arthritis can affect the joints in your foot and cause pain, stiffness, and swelling.\\n\\n5. Tendinitis: Inflammation of the tendons in your foot can lead to pain, especially if you have been overusing or injuring them.\\n\\n6. Metatarsalgia: This condition involves pain and inflammation in the ball of the foot, often caused by excessive pressure or overuse.\\n\\nThese are just a few potential causes of foot pain. To determine the exact cause and provide appropriate treatment, it is recommended to consult with a healthcare professional, such as a podiatrist or orthopedic specialist. They can conduct a physical examination, potentially order diagnostic tests, and provide you with personalized advice and treatment options.'"
      ]
     },
     "execution_count": 3,
     "metadata": {},
     "output_type": "execute_result"
    }
   ],
   "source": [
    "# Create your first prompt\n",
    "text_prompt = \" My foot hurts, what can be wrong?\"\n",
    "\n",
    "response = openai.chat.completions.create(\n",
    "    model=deployment,\n",
    "    messages=[\n",
    "        {\"role\": \"system\", \"content\": \"I'm a doctor, specialist on surgery\"},\n",
    "        {\"role\": \"user\", \"content\": text_prompt},\n",
    "    ],\n",
    ")\n",
    "\n",
    "\n",
    "response.choices[0].message.content"
   ]
  },
  {
   "cell_type": "code",
   "execution_count": null,
   "metadata": {},
   "outputs": [],
   "source": []
  }
 ],
 "metadata": {
  "kernelspec": {
   "display_name": "Python 3",
   "language": "python",
   "name": "python3"
  },
  "language_info": {
   "codemirror_mode": {
    "name": "ipython",
    "version": 3
   },
   "file_extension": ".py",
   "mimetype": "text/x-python",
   "name": "python",
   "nbconvert_exporter": "python",
   "pygments_lexer": "ipython3",
   "version": "3.10.13"
  },
  "orig_nbformat": 4
 },
 "nbformat": 4,
 "nbformat_minor": 2
}
